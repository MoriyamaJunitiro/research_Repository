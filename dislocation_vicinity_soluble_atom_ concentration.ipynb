{
 "cells": [
  {
   "cell_type": "code",
   "execution_count": 7,
   "metadata": {},
   "outputs": [
    {
     "data": {
      "text/plain": [
       "<function matplotlib.pyplot.show(close=None, block=None)>"
      ]
     },
     "execution_count": 7,
     "metadata": {},
     "output_type": "execute_result"
    },
    {
     "data": {
      "image/png": "[encoded data removed]",
      "text/plain": [
       "<Figure size 432x288 with 1 Axes>"
      ]
     },
     "metadata": {
      "needs_background": "light"
     },
     "output_type": "display_data"
    }
   ],
   "source": [
    "import numpy as np\n",
    "import matplotlib.pyplot as plt\n",
    "\n",
    "delta_h = 0.01\n",
    "N = 10\n",
    "\n",
    "list =[[i for i in range(-N,N+1,1)] for j in range(-N,N+1,1)]\n",
    "listx = [i*delta_h for i in range(-N,N+1,1)]\n",
    "\n",
    "\n",
    "listX = np.array(list)*delta_h\n",
    "\n",
    "zero = int(len(listX)/2)\n",
    "\n",
    "listY = -listX.T\n",
    "\n",
    "listXY = (listX**2 + listY**2)**2\n",
    "\n",
    "listXY[zero][zero] = 1\n",
    "\n",
    "k1 = 1-2*listX*listY/listXY\n",
    "k2 = (listX**2-listY**2)/listXY\n",
    "\n",
    "C = [[0.1 for i in range(-N,N+1,1)] for j in range(-N,N+1,1)]\n",
    "\n",
    "C = np.array(C)\n",
    "\n",
    "C_next = [[1 for i in range(-N,N+1,1)] for j in range(-N,N+1,1)]\n",
    "\n",
    "for k in range(100):\n",
    "    for i in range(-(N-1),N):\n",
    "        for j in range(-(N-1),N):\n",
    "            C_next[i][j] = (C[i+1][j]+C[i][j+1]+(1-k1[i][j]*delta_h)*C[i-1][j]+(1-k2[i][j]*delta_h)*C[i][j-1])/(4-(k1[i][j]+k2[i][j])*delta_h)\n",
    "\n",
    "    for i in range (-(N-1),N,1):\n",
    "        for j in range (-(N-1),N,1):\n",
    "            C[i][j] = C_next[i][j]\n",
    "\n",
    "C_array = np.array(C)\n",
    "\n",
    "plt.contourf(listX,listY,C_array)\n",
    "plt.show"
   ]
  }
 ],
 "metadata": {
  "kernelspec": {
   "display_name": "Python 3",
   "language": "python",
   "name": "python3"
  },
  "language_info": {
   "codemirror_mode": {
    "name": "ipython",
    "version": 3
   },
   "file_extension": ".py",
   "mimetype": "text/x-python",
   "name": "python",
   "nbconvert_exporter": "python",
   "pygments_lexer": "ipython3",
   "version": "3.8.5"
  }
 },
 "nbformat": 4,
 "nbformat_minor": 4
}
